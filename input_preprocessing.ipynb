{
 "cells": [
  {
   "cell_type": "code",
   "execution_count": null,
   "id": "df9e1112",
   "metadata": {},
   "outputs": [
    {
     "name": "stdout",
     "output_type": "stream",
     "text": [
      "[26.01922366  4.12310563]\n",
      "[34964.00966708 39964.00001251]\n"
     ]
    }
   ],
   "source": [
    "import numpy as np\n",
    "\n",
    "matrix = np.array([[47, 35], [22, 40]])\n",
    "matrix_scaled = np.array([[47, 35000], [22, 40000]])\n",
    "C = np.array( [21,36])\n",
    "C_scaled = np.array([21,36000])\n",
    "\n",
    "d = np.linalg.norm(matrix - C, axis=1)\n",
    "d_scaled = np.linalg.norm(matrix_scaled - C_scaled, axis=1)\n",
    "print(d)\n",
    "print(d_scaled)"
   ]
  }
 ],
 "metadata": {
  "kernelspec": {
   "display_name": "MLA",
   "language": "python",
   "name": "python3"
  },
  "language_info": {
   "codemirror_mode": {
    "name": "ipython",
    "version": 3
   },
   "file_extension": ".py",
   "mimetype": "text/x-python",
   "name": "python",
   "nbconvert_exporter": "python",
   "pygments_lexer": "ipython3",
   "version": "3.13.5"
  }
 },
 "nbformat": 4,
 "nbformat_minor": 5
}
