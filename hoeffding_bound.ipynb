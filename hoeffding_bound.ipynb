{
 "cells": [
  {
   "cell_type": "code",
   "execution_count": 22,
   "id": "56f79e02",
   "metadata": {},
   "outputs": [
    {
     "name": "stdout",
     "output_type": "stream",
     "text": [
      "Hoeffding bound: 0.161029\n"
     ]
    }
   ],
   "source": [
    "import math\n",
    "\n",
    "# define parameters\n",
    "n_hoeffding = 100\n",
    "a, b = -2, 1\n",
    "width = b - a\n",
    "\n",
    "# Calculating E[S]\n",
    "EX = (-2 + 0.8 + 1) / 3\n",
    "ES = n_hoeffding * EX\n",
    "\n",
    "# deducting ES from epsilon\n",
    "epsilon = 22 - ES\n",
    "\n",
    "# Hoeffding bound for generic range [a, b]\n",
    "def hoeffding_inequality (epsilon, n, range):\n",
    "    return math.exp(-2 * (epsilon ** 2) / (n * (range ** 2)))\n",
    "\n",
    "# Calculate Hoeffding bound\n",
    "bound = hoeffding_inequality(epsilon, n_hoeffding, width)\n",
    "print(f\"Hoeffding bound: {bound:.6f}\")\n"
   ]
  }
 ],
 "metadata": {
  "kernelspec": {
   "display_name": "MLA",
   "language": "python",
   "name": "python3"
  },
  "language_info": {
   "codemirror_mode": {
    "name": "ipython",
    "version": 3
   },
   "file_extension": ".py",
   "mimetype": "text/x-python",
   "name": "python",
   "nbconvert_exporter": "python",
   "pygments_lexer": "ipython3",
   "version": "3.13.5"
  }
 },
 "nbformat": 4,
 "nbformat_minor": 5
}
